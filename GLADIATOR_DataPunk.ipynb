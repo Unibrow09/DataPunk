{
  "cells": [
    {
      "cell_type": "code",
      "execution_count": null,
      "metadata": {
        "id": "_uKpQy1aC4mN"
      },
      "outputs": [],
      "source": [
        "import numpy as np\n",
        "import matplotlib.pyplot as plt\n",
        "import pandas as pd\n",
        "import seaborn as sns"
      ]
    },
    {
      "cell_type": "code",
      "execution_count": null,
      "metadata": {
        "colab": {
          "base_uri": "https://localhost:8080/",
          "height": 359
        },
        "id": "6I40JcuaDuZF",
        "outputId": "a7dbc65b-d8a9-457a-a197-307cd1127a83"
      },
      "outputs": [
        {
          "data": {
            "text/html": [
              "<div>\n",
              "<style scoped>\n",
              "    .dataframe tbody tr th:only-of-type {\n",
              "        vertical-align: middle;\n",
              "    }\n",
              "\n",
              "    .dataframe tbody tr th {\n",
              "        vertical-align: top;\n",
              "    }\n",
              "\n",
              "    .dataframe thead th {\n",
              "        text-align: right;\n",
              "    }\n",
              "</style>\n",
              "<table border=\"1\" class=\"dataframe\">\n",
              "  <thead>\n",
              "    <tr style=\"text-align: right;\">\n",
              "      <th></th>\n",
              "      <th>ID</th>\n",
              "      <th>full_name</th>\n",
              "      <th>sigma_e</th>\n",
              "      <th>sigma_a</th>\n",
              "      <th>sigma_i</th>\n",
              "      <th>sigma_om</th>\n",
              "      <th>sigma_w</th>\n",
              "      <th>sigma_ma</th>\n",
              "      <th>sigma_ad</th>\n",
              "      <th>sigma_n</th>\n",
              "      <th>...</th>\n",
              "      <th>w</th>\n",
              "      <th>ad</th>\n",
              "      <th>q</th>\n",
              "      <th>per_y</th>\n",
              "      <th>n_obs_used</th>\n",
              "      <th>ma</th>\n",
              "      <th>condition_code</th>\n",
              "      <th>H</th>\n",
              "      <th>epoch_mjd</th>\n",
              "      <th>data_arc</th>\n",
              "    </tr>\n",
              "  </thead>\n",
              "  <tbody>\n",
              "    <tr>\n",
              "      <th>0</th>\n",
              "      <td>11674</td>\n",
              "      <td>(2013 OV4)</td>\n",
              "      <td>5.756300e-08</td>\n",
              "      <td>1.605300e-08</td>\n",
              "      <td>0.000010</td>\n",
              "      <td>0.000030</td>\n",
              "      <td>0.000035</td>\n",
              "      <td>0.000017</td>\n",
              "      <td>2.254200e-08</td>\n",
              "      <td>2.054500e-09</td>\n",
              "      <td>...</td>\n",
              "      <td>323.057654</td>\n",
              "      <td>3.736782</td>\n",
              "      <td>1.585411</td>\n",
              "      <td>4.341093</td>\n",
              "      <td>117</td>\n",
              "      <td>129.101981</td>\n",
              "      <td>0.0</td>\n",
              "      <td>17.590</td>\n",
              "      <td>60200</td>\n",
              "      <td>8139.0</td>\n",
              "    </tr>\n",
              "    <tr>\n",
              "      <th>1</th>\n",
              "      <td>10222</td>\n",
              "      <td>(2011 QH117)</td>\n",
              "      <td>3.958900e-06</td>\n",
              "      <td>4.475300e-07</td>\n",
              "      <td>0.000021</td>\n",
              "      <td>0.000217</td>\n",
              "      <td>0.002209</td>\n",
              "      <td>0.001641</td>\n",
              "      <td>5.622000e-07</td>\n",
              "      <td>9.165300e-08</td>\n",
              "      <td>...</td>\n",
              "      <td>322.595505</td>\n",
              "      <td>2.769871</td>\n",
              "      <td>1.639917</td>\n",
              "      <td>3.274085</td>\n",
              "      <td>18</td>\n",
              "      <td>255.757258</td>\n",
              "      <td>2.0</td>\n",
              "      <td>19.900</td>\n",
              "      <td>60200</td>\n",
              "      <td>3722.0</td>\n",
              "    </tr>\n",
              "    <tr>\n",
              "      <th>2</th>\n",
              "      <td>15475</td>\n",
              "      <td>(2016 AQ193)</td>\n",
              "      <td>7.510200e-01</td>\n",
              "      <td>1.280000e+00</td>\n",
              "      <td>15.770000</td>\n",
              "      <td>4.632200</td>\n",
              "      <td>13.312000</td>\n",
              "      <td>90.643000</td>\n",
              "      <td>1.548700e+00</td>\n",
              "      <td>3.309800e-01</td>\n",
              "      <td>...</td>\n",
              "      <td>292.517373</td>\n",
              "      <td>2.430256</td>\n",
              "      <td>1.586762</td>\n",
              "      <td>2.846550</td>\n",
              "      <td>6</td>\n",
              "      <td>56.485758</td>\n",
              "      <td>9.0</td>\n",
              "      <td>20.288</td>\n",
              "      <td>57391</td>\n",
              "      <td>1.0</td>\n",
              "    </tr>\n",
              "    <tr>\n",
              "      <th>3</th>\n",
              "      <td>11743</td>\n",
              "      <td>(2013 PB88)</td>\n",
              "      <td>1.572900e-07</td>\n",
              "      <td>1.930200e-07</td>\n",
              "      <td>0.000027</td>\n",
              "      <td>0.000016</td>\n",
              "      <td>0.000186</td>\n",
              "      <td>0.000228</td>\n",
              "      <td>2.654700e-07</td>\n",
              "      <td>2.684700e-08</td>\n",
              "      <td>...</td>\n",
              "      <td>272.252762</td>\n",
              "      <td>3.540067</td>\n",
              "      <td>1.607843</td>\n",
              "      <td>4.129615</td>\n",
              "      <td>34</td>\n",
              "      <td>109.396437</td>\n",
              "      <td>1.0</td>\n",
              "      <td>18.320</td>\n",
              "      <td>60200</td>\n",
              "      <td>3515.0</td>\n",
              "    </tr>\n",
              "    <tr>\n",
              "      <th>4</th>\n",
              "      <td>3226</td>\n",
              "      <td>380393 (2002 XL63)</td>\n",
              "      <td>5.860500e-08</td>\n",
              "      <td>1.539100e-08</td>\n",
              "      <td>0.000007</td>\n",
              "      <td>0.000063</td>\n",
              "      <td>0.000064</td>\n",
              "      <td>0.000014</td>\n",
              "      <td>2.074800e-08</td>\n",
              "      <td>2.621900e-09</td>\n",
              "      <td>...</td>\n",
              "      <td>233.395947</td>\n",
              "      <td>3.199585</td>\n",
              "      <td>1.547266</td>\n",
              "      <td>3.656550</td>\n",
              "      <td>227</td>\n",
              "      <td>265.069228</td>\n",
              "      <td>0.0</td>\n",
              "      <td>17.920</td>\n",
              "      <td>60200</td>\n",
              "      <td>7507.0</td>\n",
              "    </tr>\n",
              "  </tbody>\n",
              "</table>\n",
              "<p>5 rows × 26 columns</p>\n",
              "</div>"
            ],
            "text/plain": [
              "      ID            full_name       sigma_e       sigma_a    sigma_i  \\\n",
              "0  11674           (2013 OV4)  5.756300e-08  1.605300e-08   0.000010   \n",
              "1  10222         (2011 QH117)  3.958900e-06  4.475300e-07   0.000021   \n",
              "2  15475         (2016 AQ193)  7.510200e-01  1.280000e+00  15.770000   \n",
              "3  11743          (2013 PB88)  1.572900e-07  1.930200e-07   0.000027   \n",
              "4   3226   380393 (2002 XL63)  5.860500e-08  1.539100e-08   0.000007   \n",
              "\n",
              "   sigma_om    sigma_w   sigma_ma      sigma_ad       sigma_n  ...  \\\n",
              "0  0.000030   0.000035   0.000017  2.254200e-08  2.054500e-09  ...   \n",
              "1  0.000217   0.002209   0.001641  5.622000e-07  9.165300e-08  ...   \n",
              "2  4.632200  13.312000  90.643000  1.548700e+00  3.309800e-01  ...   \n",
              "3  0.000016   0.000186   0.000228  2.654700e-07  2.684700e-08  ...   \n",
              "4  0.000063   0.000064   0.000014  2.074800e-08  2.621900e-09  ...   \n",
              "\n",
              "            w        ad         q     per_y  n_obs_used          ma  \\\n",
              "0  323.057654  3.736782  1.585411  4.341093         117  129.101981   \n",
              "1  322.595505  2.769871  1.639917  3.274085          18  255.757258   \n",
              "2  292.517373  2.430256  1.586762  2.846550           6   56.485758   \n",
              "3  272.252762  3.540067  1.607843  4.129615          34  109.396437   \n",
              "4  233.395947  3.199585  1.547266  3.656550         227  265.069228   \n",
              "\n",
              "   condition_code       H  epoch_mjd  data_arc  \n",
              "0             0.0  17.590      60200    8139.0  \n",
              "1             2.0  19.900      60200    3722.0  \n",
              "2             9.0  20.288      57391       1.0  \n",
              "3             1.0  18.320      60200    3515.0  \n",
              "4             0.0  17.920      60200    7507.0  \n",
              "\n",
              "[5 rows x 26 columns]"
            ]
          },
          "execution_count": 2,
          "metadata": {},
          "output_type": "execute_result"
        }
      ],
      "source": [
        "df_train = pd.read_csv(\"C:/Users/HP/Downloads/observation-days/datapunk_train.csv\")\n",
        "df_train.head()"
      ]
    },
    {
      "cell_type": "code",
      "execution_count": null,
      "metadata": {
        "colab": {
          "base_uri": "https://localhost:8080/"
        },
        "id": "h7P0QtutFAtt",
        "outputId": "3049386a-bc97-40ac-9895-28e8e17108f1"
      },
      "outputs": [
        {
          "data": {
            "text/plain": [
              "(12600, 26)"
            ]
          },
          "execution_count": 3,
          "metadata": {},
          "output_type": "execute_result"
        }
      ],
      "source": [
        "df_train.shape"
      ]
    },
    {
      "cell_type": "code",
      "execution_count": null,
      "metadata": {
        "colab": {
          "base_uri": "https://localhost:8080/",
          "height": 359
        },
        "id": "KRWBUoUDEJE-",
        "outputId": "73a3f7cb-5379-43b6-d606-b8366cac6522"
      },
      "outputs": [
        {
          "data": {
            "text/html": [
              "<div>\n",
              "<style scoped>\n",
              "    .dataframe tbody tr th:only-of-type {\n",
              "        vertical-align: middle;\n",
              "    }\n",
              "\n",
              "    .dataframe tbody tr th {\n",
              "        vertical-align: top;\n",
              "    }\n",
              "\n",
              "    .dataframe thead th {\n",
              "        text-align: right;\n",
              "    }\n",
              "</style>\n",
              "<table border=\"1\" class=\"dataframe\">\n",
              "  <thead>\n",
              "    <tr style=\"text-align: right;\">\n",
              "      <th></th>\n",
              "      <th>ID</th>\n",
              "      <th>full_name</th>\n",
              "      <th>sigma_e</th>\n",
              "      <th>sigma_a</th>\n",
              "      <th>sigma_i</th>\n",
              "      <th>sigma_om</th>\n",
              "      <th>sigma_w</th>\n",
              "      <th>sigma_ma</th>\n",
              "      <th>sigma_ad</th>\n",
              "      <th>sigma_n</th>\n",
              "      <th>...</th>\n",
              "      <th>om</th>\n",
              "      <th>w</th>\n",
              "      <th>ad</th>\n",
              "      <th>q</th>\n",
              "      <th>per_y</th>\n",
              "      <th>n_obs_used</th>\n",
              "      <th>ma</th>\n",
              "      <th>condition_code</th>\n",
              "      <th>H</th>\n",
              "      <th>epoch_mjd</th>\n",
              "    </tr>\n",
              "  </thead>\n",
              "  <tbody>\n",
              "    <tr>\n",
              "      <th>0</th>\n",
              "      <td>19732</td>\n",
              "      <td>(2019 JE8)</td>\n",
              "      <td>1.027500e-07</td>\n",
              "      <td>4.150700e-08</td>\n",
              "      <td>0.000010</td>\n",
              "      <td>0.000022</td>\n",
              "      <td>0.000086</td>\n",
              "      <td>0.000093</td>\n",
              "      <td>4.711900e-08</td>\n",
              "      <td>1.196000e-08</td>\n",
              "      <td>...</td>\n",
              "      <td>167.426658</td>\n",
              "      <td>185.300067</td>\n",
              "      <td>2.183478</td>\n",
              "      <td>1.663330</td>\n",
              "      <td>2.667558</td>\n",
              "      <td>61</td>\n",
              "      <td>113.164923</td>\n",
              "      <td>0.0</td>\n",
              "      <td>18.60</td>\n",
              "      <td>60200</td>\n",
              "    </tr>\n",
              "    <tr>\n",
              "      <th>1</th>\n",
              "      <td>7524</td>\n",
              "      <td>(2005 NF49)</td>\n",
              "      <td>6.381800e-08</td>\n",
              "      <td>8.020200e-09</td>\n",
              "      <td>0.000005</td>\n",
              "      <td>0.000059</td>\n",
              "      <td>0.000061</td>\n",
              "      <td>0.000012</td>\n",
              "      <td>1.039500e-08</td>\n",
              "      <td>1.612900e-09</td>\n",
              "      <td>...</td>\n",
              "      <td>317.934209</td>\n",
              "      <td>11.590975</td>\n",
              "      <td>2.878654</td>\n",
              "      <td>1.563288</td>\n",
              "      <td>3.309959</td>\n",
              "      <td>309</td>\n",
              "      <td>162.991041</td>\n",
              "      <td>0.0</td>\n",
              "      <td>17.82</td>\n",
              "      <td>60200</td>\n",
              "    </tr>\n",
              "    <tr>\n",
              "      <th>2</th>\n",
              "      <td>4060</td>\n",
              "      <td>447334 (2005 YA47)</td>\n",
              "      <td>1.077200e-07</td>\n",
              "      <td>1.349600e-08</td>\n",
              "      <td>0.000005</td>\n",
              "      <td>0.000094</td>\n",
              "      <td>0.000096</td>\n",
              "      <td>0.000014</td>\n",
              "      <td>1.724700e-08</td>\n",
              "      <td>2.556200e-09</td>\n",
              "      <td>...</td>\n",
              "      <td>307.553247</td>\n",
              "      <td>76.952414</td>\n",
              "      <td>2.907249</td>\n",
              "      <td>1.642529</td>\n",
              "      <td>3.431219</td>\n",
              "      <td>181</td>\n",
              "      <td>114.123346</td>\n",
              "      <td>0.0</td>\n",
              "      <td>18.24</td>\n",
              "      <td>60200</td>\n",
              "    </tr>\n",
              "    <tr>\n",
              "      <th>3</th>\n",
              "      <td>8731</td>\n",
              "      <td>(2008 SN73)</td>\n",
              "      <td>2.761600e-06</td>\n",
              "      <td>1.753600e-06</td>\n",
              "      <td>0.000053</td>\n",
              "      <td>0.000238</td>\n",
              "      <td>0.000775</td>\n",
              "      <td>0.001319</td>\n",
              "      <td>2.547400e-06</td>\n",
              "      <td>2.431200e-07</td>\n",
              "      <td>...</td>\n",
              "      <td>330.750346</td>\n",
              "      <td>96.840116</td>\n",
              "      <td>3.743929</td>\n",
              "      <td>1.410622</td>\n",
              "      <td>4.137609</td>\n",
              "      <td>27</td>\n",
              "      <td>199.093226</td>\n",
              "      <td>2.0</td>\n",
              "      <td>19.30</td>\n",
              "      <td>60200</td>\n",
              "    </tr>\n",
              "    <tr>\n",
              "      <th>4</th>\n",
              "      <td>16698</td>\n",
              "      <td>(2016 TW116)</td>\n",
              "      <td>3.209300e-07</td>\n",
              "      <td>1.125200e-08</td>\n",
              "      <td>0.000014</td>\n",
              "      <td>0.000015</td>\n",
              "      <td>0.000386</td>\n",
              "      <td>0.000337</td>\n",
              "      <td>1.212600e-08</td>\n",
              "      <td>4.038100e-09</td>\n",
              "      <td>...</td>\n",
              "      <td>20.538878</td>\n",
              "      <td>106.892740</td>\n",
              "      <td>1.898512</td>\n",
              "      <td>1.625004</td>\n",
              "      <td>2.338448</td>\n",
              "      <td>92</td>\n",
              "      <td>258.908430</td>\n",
              "      <td>0.0</td>\n",
              "      <td>19.42</td>\n",
              "      <td>60200</td>\n",
              "    </tr>\n",
              "  </tbody>\n",
              "</table>\n",
              "<p>5 rows × 25 columns</p>\n",
              "</div>"
            ],
            "text/plain": [
              "      ID            full_name       sigma_e       sigma_a   sigma_i  sigma_om  \\\n",
              "0  19732           (2019 JE8)  1.027500e-07  4.150700e-08  0.000010  0.000022   \n",
              "1   7524          (2005 NF49)  6.381800e-08  8.020200e-09  0.000005  0.000059   \n",
              "2   4060   447334 (2005 YA47)  1.077200e-07  1.349600e-08  0.000005  0.000094   \n",
              "3   8731          (2008 SN73)  2.761600e-06  1.753600e-06  0.000053  0.000238   \n",
              "4  16698         (2016 TW116)  3.209300e-07  1.125200e-08  0.000014  0.000015   \n",
              "\n",
              "    sigma_w  sigma_ma      sigma_ad       sigma_n  ...          om  \\\n",
              "0  0.000086  0.000093  4.711900e-08  1.196000e-08  ...  167.426658   \n",
              "1  0.000061  0.000012  1.039500e-08  1.612900e-09  ...  317.934209   \n",
              "2  0.000096  0.000014  1.724700e-08  2.556200e-09  ...  307.553247   \n",
              "3  0.000775  0.001319  2.547400e-06  2.431200e-07  ...  330.750346   \n",
              "4  0.000386  0.000337  1.212600e-08  4.038100e-09  ...   20.538878   \n",
              "\n",
              "            w        ad         q     per_y  n_obs_used          ma  \\\n",
              "0  185.300067  2.183478  1.663330  2.667558          61  113.164923   \n",
              "1   11.590975  2.878654  1.563288  3.309959         309  162.991041   \n",
              "2   76.952414  2.907249  1.642529  3.431219         181  114.123346   \n",
              "3   96.840116  3.743929  1.410622  4.137609          27  199.093226   \n",
              "4  106.892740  1.898512  1.625004  2.338448          92  258.908430   \n",
              "\n",
              "   condition_code      H  epoch_mjd  \n",
              "0             0.0  18.60      60200  \n",
              "1             0.0  17.82      60200  \n",
              "2             0.0  18.24      60200  \n",
              "3             2.0  19.30      60200  \n",
              "4             0.0  19.42      60200  \n",
              "\n",
              "[5 rows x 25 columns]"
            ]
          },
          "execution_count": 4,
          "metadata": {},
          "output_type": "execute_result"
        }
      ],
      "source": [
        "df_test = pd.read_csv(\"C:/Users/HP/Downloads/observation-days/datapunk_test.csv\")\n",
        "df_test.head()"
      ]
    },
    {
      "cell_type": "code",
      "execution_count": null,
      "metadata": {
        "colab": {
          "base_uri": "https://localhost:8080/"
        },
        "id": "1dwXzPraFDdd",
        "outputId": "440a6c22-84d3-4692-fad5-fcf181f26eeb"
      },
      "outputs": [
        {
          "data": {
            "text/plain": [
              "(5400, 25)"
            ]
          },
          "execution_count": 5,
          "metadata": {},
          "output_type": "execute_result"
        }
      ],
      "source": [
        "df_test.shape"
      ]
    },
    {
      "cell_type": "code",
      "execution_count": null,
      "metadata": {
        "colab": {
          "base_uri": "https://localhost:8080/",
          "height": 394
        },
        "id": "6CwhRNJeEW0p",
        "outputId": "c866233d-ef30-459c-dd7c-99104e5a6fa4"
      },
      "outputs": [
        {
          "name": "stderr",
          "output_type": "stream",
          "text": [
            "C:\\Users\\HP\\AppData\\Local\\Temp\\ipykernel_15736\\3394615110.py:1: FutureWarning: The frame.append method is deprecated and will be removed from pandas in a future version. Use pandas.concat instead.\n",
            "  df = df_train.append(df_test)\n"
          ]
        },
        {
          "data": {
            "text/html": [
              "<div>\n",
              "<style scoped>\n",
              "    .dataframe tbody tr th:only-of-type {\n",
              "        vertical-align: middle;\n",
              "    }\n",
              "\n",
              "    .dataframe tbody tr th {\n",
              "        vertical-align: top;\n",
              "    }\n",
              "\n",
              "    .dataframe thead th {\n",
              "        text-align: right;\n",
              "    }\n",
              "</style>\n",
              "<table border=\"1\" class=\"dataframe\">\n",
              "  <thead>\n",
              "    <tr style=\"text-align: right;\">\n",
              "      <th></th>\n",
              "      <th>ID</th>\n",
              "      <th>full_name</th>\n",
              "      <th>sigma_e</th>\n",
              "      <th>sigma_a</th>\n",
              "      <th>sigma_i</th>\n",
              "      <th>sigma_om</th>\n",
              "      <th>sigma_w</th>\n",
              "      <th>sigma_ma</th>\n",
              "      <th>sigma_ad</th>\n",
              "      <th>sigma_n</th>\n",
              "      <th>...</th>\n",
              "      <th>w</th>\n",
              "      <th>ad</th>\n",
              "      <th>q</th>\n",
              "      <th>per_y</th>\n",
              "      <th>n_obs_used</th>\n",
              "      <th>ma</th>\n",
              "      <th>condition_code</th>\n",
              "      <th>H</th>\n",
              "      <th>epoch_mjd</th>\n",
              "      <th>data_arc</th>\n",
              "    </tr>\n",
              "  </thead>\n",
              "  <tbody>\n",
              "    <tr>\n",
              "      <th>0</th>\n",
              "      <td>11674</td>\n",
              "      <td>(2013 OV4)</td>\n",
              "      <td>5.756300e-08</td>\n",
              "      <td>1.605300e-08</td>\n",
              "      <td>0.000010</td>\n",
              "      <td>0.000030</td>\n",
              "      <td>0.000035</td>\n",
              "      <td>0.000017</td>\n",
              "      <td>2.254200e-08</td>\n",
              "      <td>2.054500e-09</td>\n",
              "      <td>...</td>\n",
              "      <td>323.057654</td>\n",
              "      <td>3.736782</td>\n",
              "      <td>1.585411</td>\n",
              "      <td>4.341093</td>\n",
              "      <td>117</td>\n",
              "      <td>129.101981</td>\n",
              "      <td>0.0</td>\n",
              "      <td>17.590</td>\n",
              "      <td>60200</td>\n",
              "      <td>8139.0</td>\n",
              "    </tr>\n",
              "    <tr>\n",
              "      <th>1</th>\n",
              "      <td>10222</td>\n",
              "      <td>(2011 QH117)</td>\n",
              "      <td>3.958900e-06</td>\n",
              "      <td>4.475300e-07</td>\n",
              "      <td>0.000021</td>\n",
              "      <td>0.000217</td>\n",
              "      <td>0.002209</td>\n",
              "      <td>0.001641</td>\n",
              "      <td>5.622000e-07</td>\n",
              "      <td>9.165300e-08</td>\n",
              "      <td>...</td>\n",
              "      <td>322.595505</td>\n",
              "      <td>2.769871</td>\n",
              "      <td>1.639917</td>\n",
              "      <td>3.274085</td>\n",
              "      <td>18</td>\n",
              "      <td>255.757258</td>\n",
              "      <td>2.0</td>\n",
              "      <td>19.900</td>\n",
              "      <td>60200</td>\n",
              "      <td>3722.0</td>\n",
              "    </tr>\n",
              "    <tr>\n",
              "      <th>2</th>\n",
              "      <td>15475</td>\n",
              "      <td>(2016 AQ193)</td>\n",
              "      <td>7.510200e-01</td>\n",
              "      <td>1.280000e+00</td>\n",
              "      <td>15.770000</td>\n",
              "      <td>4.632200</td>\n",
              "      <td>13.312000</td>\n",
              "      <td>90.643000</td>\n",
              "      <td>1.548700e+00</td>\n",
              "      <td>3.309800e-01</td>\n",
              "      <td>...</td>\n",
              "      <td>292.517373</td>\n",
              "      <td>2.430256</td>\n",
              "      <td>1.586762</td>\n",
              "      <td>2.846550</td>\n",
              "      <td>6</td>\n",
              "      <td>56.485758</td>\n",
              "      <td>9.0</td>\n",
              "      <td>20.288</td>\n",
              "      <td>57391</td>\n",
              "      <td>1.0</td>\n",
              "    </tr>\n",
              "    <tr>\n",
              "      <th>3</th>\n",
              "      <td>11743</td>\n",
              "      <td>(2013 PB88)</td>\n",
              "      <td>1.572900e-07</td>\n",
              "      <td>1.930200e-07</td>\n",
              "      <td>0.000027</td>\n",
              "      <td>0.000016</td>\n",
              "      <td>0.000186</td>\n",
              "      <td>0.000228</td>\n",
              "      <td>2.654700e-07</td>\n",
              "      <td>2.684700e-08</td>\n",
              "      <td>...</td>\n",
              "      <td>272.252762</td>\n",
              "      <td>3.540067</td>\n",
              "      <td>1.607843</td>\n",
              "      <td>4.129615</td>\n",
              "      <td>34</td>\n",
              "      <td>109.396437</td>\n",
              "      <td>1.0</td>\n",
              "      <td>18.320</td>\n",
              "      <td>60200</td>\n",
              "      <td>3515.0</td>\n",
              "    </tr>\n",
              "    <tr>\n",
              "      <th>4</th>\n",
              "      <td>3226</td>\n",
              "      <td>380393 (2002 XL63)</td>\n",
              "      <td>5.860500e-08</td>\n",
              "      <td>1.539100e-08</td>\n",
              "      <td>0.000007</td>\n",
              "      <td>0.000063</td>\n",
              "      <td>0.000064</td>\n",
              "      <td>0.000014</td>\n",
              "      <td>2.074800e-08</td>\n",
              "      <td>2.621900e-09</td>\n",
              "      <td>...</td>\n",
              "      <td>233.395947</td>\n",
              "      <td>3.199585</td>\n",
              "      <td>1.547266</td>\n",
              "      <td>3.656550</td>\n",
              "      <td>227</td>\n",
              "      <td>265.069228</td>\n",
              "      <td>0.0</td>\n",
              "      <td>17.920</td>\n",
              "      <td>60200</td>\n",
              "      <td>7507.0</td>\n",
              "    </tr>\n",
              "  </tbody>\n",
              "</table>\n",
              "<p>5 rows × 26 columns</p>\n",
              "</div>"
            ],
            "text/plain": [
              "      ID            full_name       sigma_e       sigma_a    sigma_i  \\\n",
              "0  11674           (2013 OV4)  5.756300e-08  1.605300e-08   0.000010   \n",
              "1  10222         (2011 QH117)  3.958900e-06  4.475300e-07   0.000021   \n",
              "2  15475         (2016 AQ193)  7.510200e-01  1.280000e+00  15.770000   \n",
              "3  11743          (2013 PB88)  1.572900e-07  1.930200e-07   0.000027   \n",
              "4   3226   380393 (2002 XL63)  5.860500e-08  1.539100e-08   0.000007   \n",
              "\n",
              "   sigma_om    sigma_w   sigma_ma      sigma_ad       sigma_n  ...  \\\n",
              "0  0.000030   0.000035   0.000017  2.254200e-08  2.054500e-09  ...   \n",
              "1  0.000217   0.002209   0.001641  5.622000e-07  9.165300e-08  ...   \n",
              "2  4.632200  13.312000  90.643000  1.548700e+00  3.309800e-01  ...   \n",
              "3  0.000016   0.000186   0.000228  2.654700e-07  2.684700e-08  ...   \n",
              "4  0.000063   0.000064   0.000014  2.074800e-08  2.621900e-09  ...   \n",
              "\n",
              "            w        ad         q     per_y  n_obs_used          ma  \\\n",
              "0  323.057654  3.736782  1.585411  4.341093         117  129.101981   \n",
              "1  322.595505  2.769871  1.639917  3.274085          18  255.757258   \n",
              "2  292.517373  2.430256  1.586762  2.846550           6   56.485758   \n",
              "3  272.252762  3.540067  1.607843  4.129615          34  109.396437   \n",
              "4  233.395947  3.199585  1.547266  3.656550         227  265.069228   \n",
              "\n",
              "   condition_code       H  epoch_mjd  data_arc  \n",
              "0             0.0  17.590      60200    8139.0  \n",
              "1             2.0  19.900      60200    3722.0  \n",
              "2             9.0  20.288      57391       1.0  \n",
              "3             1.0  18.320      60200    3515.0  \n",
              "4             0.0  17.920      60200    7507.0  \n",
              "\n",
              "[5 rows x 26 columns]"
            ]
          },
          "execution_count": 6,
          "metadata": {},
          "output_type": "execute_result"
        }
      ],
      "source": [
        "df = df_train.append(df_test)\n",
        "df.head()"
      ]
    },
    {
      "cell_type": "code",
      "execution_count": null,
      "metadata": {
        "colab": {
          "base_uri": "https://localhost:8080/"
        },
        "id": "-VJPKg6rFGCc",
        "outputId": "c69082cd-83e4-49bd-9ee6-223064e2037f"
      },
      "outputs": [
        {
          "data": {
            "text/plain": [
              "(18000, 26)"
            ]
          },
          "execution_count": 7,
          "metadata": {},
          "output_type": "execute_result"
        }
      ],
      "source": [
        "df.shape"
      ]
    },
    {
      "cell_type": "code",
      "execution_count": null,
      "metadata": {
        "colab": {
          "base_uri": "https://localhost:8080/"
        },
        "id": "rwPQwydHEe4a",
        "outputId": "d2950a6f-52bd-42c3-ccb2-41baa3dddf64"
      },
      "outputs": [
        {
          "name": "stdout",
          "output_type": "stream",
          "text": [
            "<class 'pandas.core.frame.DataFrame'>\n",
            "Int64Index: 18000 entries, 0 to 5399\n",
            "Data columns (total 26 columns):\n",
            " #   Column          Non-Null Count  Dtype  \n",
            "---  ------          --------------  -----  \n",
            " 0   ID              18000 non-null  int64  \n",
            " 1   full_name       18000 non-null  object \n",
            " 2   sigma_e         17849 non-null  float64\n",
            " 3   sigma_a         17849 non-null  float64\n",
            " 4   sigma_i         17849 non-null  float64\n",
            " 5   sigma_om        17849 non-null  float64\n",
            " 6   sigma_w         17849 non-null  float64\n",
            " 7   sigma_ma        17849 non-null  float64\n",
            " 8   sigma_ad        17849 non-null  float64\n",
            " 9   sigma_n         17849 non-null  float64\n",
            " 10  sigma_tp        17849 non-null  float64\n",
            " 11  sigma_per       17849 non-null  float64\n",
            " 12  a               18000 non-null  float64\n",
            " 13  e               18000 non-null  float64\n",
            " 14  i               18000 non-null  float64\n",
            " 15  om              18000 non-null  float64\n",
            " 16  w               18000 non-null  float64\n",
            " 17  ad              18000 non-null  float64\n",
            " 18  q               18000 non-null  float64\n",
            " 19  per_y           18000 non-null  float64\n",
            " 20  n_obs_used      18000 non-null  int64  \n",
            " 21  ma              18000 non-null  float64\n",
            " 22  condition_code  17999 non-null  float64\n",
            " 23  H               17871 non-null  float64\n",
            " 24  epoch_mjd       18000 non-null  int64  \n",
            " 25  data_arc        12600 non-null  float64\n",
            "dtypes: float64(22), int64(3), object(1)\n",
            "memory usage: 3.7+ MB\n"
          ]
        }
      ],
      "source": [
        "df.info()"
      ]
    },
    {
      "cell_type": "code",
      "execution_count": null,
      "metadata": {
        "colab": {
          "base_uri": "https://localhost:8080/"
        },
        "id": "RW1S75RsFfsI",
        "outputId": "13b4ec6f-a883-4129-ae2e-3822457a6ad8"
      },
      "outputs": [
        {
          "data": {
            "text/plain": [
              "ID                   0\n",
              "full_name            0\n",
              "sigma_e            151\n",
              "sigma_a            151\n",
              "sigma_i            151\n",
              "sigma_om           151\n",
              "sigma_w            151\n",
              "sigma_ma           151\n",
              "sigma_ad           151\n",
              "sigma_n            151\n",
              "sigma_tp           151\n",
              "sigma_per          151\n",
              "a                    0\n",
              "e                    0\n",
              "i                    0\n",
              "om                   0\n",
              "w                    0\n",
              "ad                   0\n",
              "q                    0\n",
              "per_y                0\n",
              "n_obs_used           0\n",
              "ma                   0\n",
              "condition_code       1\n",
              "H                  129\n",
              "epoch_mjd            0\n",
              "data_arc          5400\n",
              "dtype: int64"
            ]
          },
          "execution_count": 9,
          "metadata": {},
          "output_type": "execute_result"
        }
      ],
      "source": [
        "df.isnull().sum()"
      ]
    },
    {
      "cell_type": "code",
      "execution_count": null,
      "metadata": {
        "id": "0QJxXilKFoBw"
      },
      "outputs": [],
      "source": [
        "columns_with_missing = ['sigma_e', 'sigma_a', 'sigma_i', 'sigma_om', 'sigma_w', 'sigma_ma',\n",
        "                        'sigma_ad', 'sigma_n', 'sigma_tp', 'sigma_per', 'condition_code', 'H']\n",
        "\n",
        "for column in columns_with_missing:\n",
        "    mean_value = df[column].mean()\n",
        "    df[column].fillna(mean_value, inplace=True)"
      ]
    },
    {
      "cell_type": "code",
      "execution_count": null,
      "metadata": {
        "colab": {
          "base_uri": "https://localhost:8080/"
        },
        "id": "NQo_fItCGCR8",
        "outputId": "8b192fb5-dbd9-4642-f595-f9420899b585"
      },
      "outputs": [
        {
          "data": {
            "text/plain": [
              "ID                   0\n",
              "full_name            0\n",
              "sigma_e              0\n",
              "sigma_a              0\n",
              "sigma_i              0\n",
              "sigma_om             0\n",
              "sigma_w              0\n",
              "sigma_ma             0\n",
              "sigma_ad             0\n",
              "sigma_n              0\n",
              "sigma_tp             0\n",
              "sigma_per            0\n",
              "a                    0\n",
              "e                    0\n",
              "i                    0\n",
              "om                   0\n",
              "w                    0\n",
              "ad                   0\n",
              "q                    0\n",
              "per_y                0\n",
              "n_obs_used           0\n",
              "ma                   0\n",
              "condition_code       0\n",
              "H                    0\n",
              "epoch_mjd            0\n",
              "data_arc          5400\n",
              "dtype: int64"
            ]
          },
          "execution_count": 11,
          "metadata": {},
          "output_type": "execute_result"
        }
      ],
      "source": [
        "df.isnull().sum()"
      ]
    },
    {
      "cell_type": "code",
      "execution_count": null,
      "metadata": {
        "colab": {
          "base_uri": "https://localhost:8080/",
          "height": 349
        },
        "id": "IZerk9FoGJYM",
        "outputId": "33af7a4a-8edf-431e-a67b-df4c24117be5"
      },
      "outputs": [
        {
          "data": {
            "text/html": [
              "<div>\n",
              "<style scoped>\n",
              "    .dataframe tbody tr th:only-of-type {\n",
              "        vertical-align: middle;\n",
              "    }\n",
              "\n",
              "    .dataframe tbody tr th {\n",
              "        vertical-align: top;\n",
              "    }\n",
              "\n",
              "    .dataframe thead th {\n",
              "        text-align: right;\n",
              "    }\n",
              "</style>\n",
              "<table border=\"1\" class=\"dataframe\">\n",
              "  <thead>\n",
              "    <tr style=\"text-align: right;\">\n",
              "      <th></th>\n",
              "      <th>ID</th>\n",
              "      <th>sigma_e</th>\n",
              "      <th>sigma_a</th>\n",
              "      <th>sigma_i</th>\n",
              "      <th>sigma_om</th>\n",
              "      <th>sigma_w</th>\n",
              "      <th>sigma_ma</th>\n",
              "      <th>sigma_ad</th>\n",
              "      <th>sigma_n</th>\n",
              "      <th>sigma_tp</th>\n",
              "      <th>...</th>\n",
              "      <th>w</th>\n",
              "      <th>ad</th>\n",
              "      <th>q</th>\n",
              "      <th>per_y</th>\n",
              "      <th>n_obs_used</th>\n",
              "      <th>ma</th>\n",
              "      <th>condition_code</th>\n",
              "      <th>H</th>\n",
              "      <th>epoch_mjd</th>\n",
              "      <th>data_arc</th>\n",
              "    </tr>\n",
              "  </thead>\n",
              "  <tbody>\n",
              "    <tr>\n",
              "      <th>count</th>\n",
              "      <td>18000.000000</td>\n",
              "      <td>1.800000e+04</td>\n",
              "      <td>1.800000e+04</td>\n",
              "      <td>1.800000e+04</td>\n",
              "      <td>1.800000e+04</td>\n",
              "      <td>1.800000e+04</td>\n",
              "      <td>1.800000e+04</td>\n",
              "      <td>1.800000e+04</td>\n",
              "      <td>1.800000e+04</td>\n",
              "      <td>1.800000e+04</td>\n",
              "      <td>...</td>\n",
              "      <td>18000.000000</td>\n",
              "      <td>18000.000000</td>\n",
              "      <td>18000.000000</td>\n",
              "      <td>18000.000000</td>\n",
              "      <td>18000.000000</td>\n",
              "      <td>18000.000000</td>\n",
              "      <td>18000.000000</td>\n",
              "      <td>18000.000000</td>\n",
              "      <td>18000.000000</td>\n",
              "      <td>12600.000000</td>\n",
              "    </tr>\n",
              "    <tr>\n",
              "      <th>mean</th>\n",
              "      <td>10999.500000</td>\n",
              "      <td>7.425505e-01</td>\n",
              "      <td>2.131385e+00</td>\n",
              "      <td>2.812231e+00</td>\n",
              "      <td>1.687037e+01</td>\n",
              "      <td>9.368831e+01</td>\n",
              "      <td>5.392962e+01</td>\n",
              "      <td>2.976917e+00</td>\n",
              "      <td>3.111003e-01</td>\n",
              "      <td>1.363867e+02</td>\n",
              "      <td>...</td>\n",
              "      <td>180.281109</td>\n",
              "      <td>2.980078</td>\n",
              "      <td>1.557240</td>\n",
              "      <td>3.443309</td>\n",
              "      <td>121.147833</td>\n",
              "      <td>178.989234</td>\n",
              "      <td>1.730874</td>\n",
              "      <td>18.966431</td>\n",
              "      <td>59871.672111</td>\n",
              "      <td>4344.361684</td>\n",
              "    </tr>\n",
              "    <tr>\n",
              "      <th>std</th>\n",
              "      <td>5196.296758</td>\n",
              "      <td>4.822702e+01</td>\n",
              "      <td>1.352114e+02</td>\n",
              "      <td>1.776075e+02</td>\n",
              "      <td>8.795137e+02</td>\n",
              "      <td>4.656007e+03</td>\n",
              "      <td>2.763599e+03</td>\n",
              "      <td>1.907184e+02</td>\n",
              "      <td>1.994199e+01</td>\n",
              "      <td>6.833063e+03</td>\n",
              "      <td>...</td>\n",
              "      <td>101.755027</td>\n",
              "      <td>0.664017</td>\n",
              "      <td>0.098616</td>\n",
              "      <td>0.737159</td>\n",
              "      <td>167.489619</td>\n",
              "      <td>108.835382</td>\n",
              "      <td>2.881634</td>\n",
              "      <td>1.197234</td>\n",
              "      <td>1157.347531</td>\n",
              "      <td>3081.685798</td>\n",
              "    </tr>\n",
              "    <tr>\n",
              "      <th>min</th>\n",
              "      <td>2000.000000</td>\n",
              "      <td>7.180200e-10</td>\n",
              "      <td>3.258100e-10</td>\n",
              "      <td>5.404600e-08</td>\n",
              "      <td>9.599000e-08</td>\n",
              "      <td>1.645900e-07</td>\n",
              "      <td>1.616100e-07</td>\n",
              "      <td>4.094400e-10</td>\n",
              "      <td>4.653200e-11</td>\n",
              "      <td>6.979700e-07</td>\n",
              "      <td>...</td>\n",
              "      <td>0.010241</td>\n",
              "      <td>1.379870</td>\n",
              "      <td>1.300006</td>\n",
              "      <td>1.572033</td>\n",
              "      <td>3.000000</td>\n",
              "      <td>0.037916</td>\n",
              "      <td>0.000000</td>\n",
              "      <td>14.220000</td>\n",
              "      <td>28097.000000</td>\n",
              "      <td>1.000000</td>\n",
              "    </tr>\n",
              "    <tr>\n",
              "      <th>25%</th>\n",
              "      <td>6499.750000</td>\n",
              "      <td>7.214350e-08</td>\n",
              "      <td>1.418025e-08</td>\n",
              "      <td>7.949500e-06</td>\n",
              "      <td>2.091725e-05</td>\n",
              "      <td>5.158625e-05</td>\n",
              "      <td>2.495700e-05</td>\n",
              "      <td>1.792350e-08</td>\n",
              "      <td>3.029725e-09</td>\n",
              "      <td>8.304975e-05</td>\n",
              "      <td>...</td>\n",
              "      <td>90.034638</td>\n",
              "      <td>2.527705</td>\n",
              "      <td>1.499299</td>\n",
              "      <td>2.839390</td>\n",
              "      <td>32.000000</td>\n",
              "      <td>82.303690</td>\n",
              "      <td>0.000000</td>\n",
              "      <td>18.200000</td>\n",
              "      <td>60200.000000</td>\n",
              "      <td>1832.750000</td>\n",
              "    </tr>\n",
              "    <tr>\n",
              "      <th>50%</th>\n",
              "      <td>10999.500000</td>\n",
              "      <td>2.188950e-07</td>\n",
              "      <td>3.947700e-08</td>\n",
              "      <td>1.480100e-05</td>\n",
              "      <td>5.228350e-05</td>\n",
              "      <td>1.337950e-04</td>\n",
              "      <td>7.572750e-05</td>\n",
              "      <td>5.162250e-08</td>\n",
              "      <td>7.669550e-09</td>\n",
              "      <td>2.536550e-04</td>\n",
              "      <td>...</td>\n",
              "      <td>180.791394</td>\n",
              "      <td>2.955745</td>\n",
              "      <td>1.590727</td>\n",
              "      <td>3.405959</td>\n",
              "      <td>66.000000</td>\n",
              "      <td>177.703467</td>\n",
              "      <td>0.000000</td>\n",
              "      <td>18.966431</td>\n",
              "      <td>60200.000000</td>\n",
              "      <td>4542.000000</td>\n",
              "    </tr>\n",
              "    <tr>\n",
              "      <th>75%</th>\n",
              "      <td>15499.250000</td>\n",
              "      <td>3.167700e-06</td>\n",
              "      <td>6.705350e-07</td>\n",
              "      <td>6.725250e-05</td>\n",
              "      <td>1.880350e-04</td>\n",
              "      <td>9.429100e-04</td>\n",
              "      <td>9.084650e-04</td>\n",
              "      <td>8.832675e-07</td>\n",
              "      <td>1.230750e-07</td>\n",
              "      <td>2.974000e-03</td>\n",
              "      <td>...</td>\n",
              "      <td>270.536146</td>\n",
              "      <td>3.501937</td>\n",
              "      <td>1.637036</td>\n",
              "      <td>4.048231</td>\n",
              "      <td>144.000000</td>\n",
              "      <td>274.187328</td>\n",
              "      <td>2.000000</td>\n",
              "      <td>19.690000</td>\n",
              "      <td>60200.000000</td>\n",
              "      <td>6703.000000</td>\n",
              "    </tr>\n",
              "    <tr>\n",
              "      <th>max</th>\n",
              "      <td>19999.000000</td>\n",
              "      <td>4.780200e+03</td>\n",
              "      <td>1.389800e+04</td>\n",
              "      <td>1.754700e+04</td>\n",
              "      <td>7.367500e+04</td>\n",
              "      <td>4.697500e+05</td>\n",
              "      <td>2.993300e+05</td>\n",
              "      <td>2.017300e+04</td>\n",
              "      <td>2.144800e+03</td>\n",
              "      <td>6.841500e+05</td>\n",
              "      <td>...</td>\n",
              "      <td>359.959687</td>\n",
              "      <td>5.063004</td>\n",
              "      <td>1.665989</td>\n",
              "      <td>5.723236</td>\n",
              "      <td>3121.000000</td>\n",
              "      <td>359.989828</td>\n",
              "      <td>9.000000</td>\n",
              "      <td>24.770000</td>\n",
              "      <td>60200.000000</td>\n",
              "      <td>27021.000000</td>\n",
              "    </tr>\n",
              "  </tbody>\n",
              "</table>\n",
              "<p>8 rows × 25 columns</p>\n",
              "</div>"
            ],
            "text/plain": [
              "                 ID       sigma_e       sigma_a       sigma_i      sigma_om  \\\n",
              "count  18000.000000  1.800000e+04  1.800000e+04  1.800000e+04  1.800000e+04   \n",
              "mean   10999.500000  7.425505e-01  2.131385e+00  2.812231e+00  1.687037e+01   \n",
              "std     5196.296758  4.822702e+01  1.352114e+02  1.776075e+02  8.795137e+02   \n",
              "min     2000.000000  7.180200e-10  3.258100e-10  5.404600e-08  9.599000e-08   \n",
              "25%     6499.750000  7.214350e-08  1.418025e-08  7.949500e-06  2.091725e-05   \n",
              "50%    10999.500000  2.188950e-07  3.947700e-08  1.480100e-05  5.228350e-05   \n",
              "75%    15499.250000  3.167700e-06  6.705350e-07  6.725250e-05  1.880350e-04   \n",
              "max    19999.000000  4.780200e+03  1.389800e+04  1.754700e+04  7.367500e+04   \n",
              "\n",
              "            sigma_w      sigma_ma      sigma_ad       sigma_n      sigma_tp  \\\n",
              "count  1.800000e+04  1.800000e+04  1.800000e+04  1.800000e+04  1.800000e+04   \n",
              "mean   9.368831e+01  5.392962e+01  2.976917e+00  3.111003e-01  1.363867e+02   \n",
              "std    4.656007e+03  2.763599e+03  1.907184e+02  1.994199e+01  6.833063e+03   \n",
              "min    1.645900e-07  1.616100e-07  4.094400e-10  4.653200e-11  6.979700e-07   \n",
              "25%    5.158625e-05  2.495700e-05  1.792350e-08  3.029725e-09  8.304975e-05   \n",
              "50%    1.337950e-04  7.572750e-05  5.162250e-08  7.669550e-09  2.536550e-04   \n",
              "75%    9.429100e-04  9.084650e-04  8.832675e-07  1.230750e-07  2.974000e-03   \n",
              "max    4.697500e+05  2.993300e+05  2.017300e+04  2.144800e+03  6.841500e+05   \n",
              "\n",
              "       ...             w            ad             q         per_y  \\\n",
              "count  ...  18000.000000  18000.000000  18000.000000  18000.000000   \n",
              "mean   ...    180.281109      2.980078      1.557240      3.443309   \n",
              "std    ...    101.755027      0.664017      0.098616      0.737159   \n",
              "min    ...      0.010241      1.379870      1.300006      1.572033   \n",
              "25%    ...     90.034638      2.527705      1.499299      2.839390   \n",
              "50%    ...    180.791394      2.955745      1.590727      3.405959   \n",
              "75%    ...    270.536146      3.501937      1.637036      4.048231   \n",
              "max    ...    359.959687      5.063004      1.665989      5.723236   \n",
              "\n",
              "         n_obs_used            ma  condition_code             H     epoch_mjd  \\\n",
              "count  18000.000000  18000.000000    18000.000000  18000.000000  18000.000000   \n",
              "mean     121.147833    178.989234        1.730874     18.966431  59871.672111   \n",
              "std      167.489619    108.835382        2.881634      1.197234   1157.347531   \n",
              "min        3.000000      0.037916        0.000000     14.220000  28097.000000   \n",
              "25%       32.000000     82.303690        0.000000     18.200000  60200.000000   \n",
              "50%       66.000000    177.703467        0.000000     18.966431  60200.000000   \n",
              "75%      144.000000    274.187328        2.000000     19.690000  60200.000000   \n",
              "max     3121.000000    359.989828        9.000000     24.770000  60200.000000   \n",
              "\n",
              "           data_arc  \n",
              "count  12600.000000  \n",
              "mean    4344.361684  \n",
              "std     3081.685798  \n",
              "min        1.000000  \n",
              "25%     1832.750000  \n",
              "50%     4542.000000  \n",
              "75%     6703.000000  \n",
              "max    27021.000000  \n",
              "\n",
              "[8 rows x 25 columns]"
            ]
          },
          "execution_count": 12,
          "metadata": {},
          "output_type": "execute_result"
        }
      ],
      "source": [
        "df.describe()"
      ]
    },
    {
      "cell_type": "code",
      "execution_count": null,
      "metadata": {
        "id": "yaerkaWBPil3"
      },
      "outputs": [],
      "source": [
        "import re\n",
        "\n",
        "def extract_year(full_name):\n",
        "    match = re.search(r'\\b(\\d{4})\\b', str(full_name))\n",
        "    if match:\n",
        "        return int(match.group(1))\n",
        "    else:\n",
        "        return None\n",
        "\n",
        "df['year_from_full_name'] = df['full_name'].apply(extract_year)\n",
        "\n",
        "cols = list(df.columns)\n",
        "cols.insert(0, cols.pop(cols.index('year_from_full_name')))\n",
        "df = df[cols]"
      ]
    },
    {
      "cell_type": "code",
      "execution_count": null,
      "metadata": {
        "id": "PkjltQgjGWWe"
      },
      "outputs": [],
      "source": [
        "df.drop(['full_name', 'i', 'per_y', 'w', 'q', 'sigma_a', 'sigma_tp', 'e','condition_code'], axis = 1, inplace = True)"
      ]
    },
    {
      "cell_type": "code",
      "execution_count": null,
      "metadata": {
        "colab": {
          "base_uri": "https://localhost:8080/",
          "height": 313
        },
        "id": "hRqqn7zFGl7d",
        "outputId": "fcd3d3e1-091d-424c-ef7f-8ece996e4acc"
      },
      "outputs": [
        {
          "data": {
            "text/html": [
              "<div>\n",
              "<style scoped>\n",
              "    .dataframe tbody tr th:only-of-type {\n",
              "        vertical-align: middle;\n",
              "    }\n",
              "\n",
              "    .dataframe tbody tr th {\n",
              "        vertical-align: top;\n",
              "    }\n",
              "\n",
              "    .dataframe thead th {\n",
              "        text-align: right;\n",
              "    }\n",
              "</style>\n",
              "<table border=\"1\" class=\"dataframe\">\n",
              "  <thead>\n",
              "    <tr style=\"text-align: right;\">\n",
              "      <th></th>\n",
              "      <th>year_from_full_name</th>\n",
              "      <th>ID</th>\n",
              "      <th>sigma_e</th>\n",
              "      <th>sigma_i</th>\n",
              "      <th>sigma_om</th>\n",
              "      <th>sigma_w</th>\n",
              "      <th>sigma_ma</th>\n",
              "      <th>sigma_ad</th>\n",
              "      <th>sigma_n</th>\n",
              "      <th>sigma_per</th>\n",
              "      <th>a</th>\n",
              "      <th>om</th>\n",
              "      <th>ad</th>\n",
              "      <th>n_obs_used</th>\n",
              "      <th>ma</th>\n",
              "      <th>H</th>\n",
              "      <th>epoch_mjd</th>\n",
              "      <th>data_arc</th>\n",
              "    </tr>\n",
              "  </thead>\n",
              "  <tbody>\n",
              "    <tr>\n",
              "      <th>0</th>\n",
              "      <td>2013</td>\n",
              "      <td>11674</td>\n",
              "      <td>5.756300e-08</td>\n",
              "      <td>0.000010</td>\n",
              "      <td>0.000030</td>\n",
              "      <td>0.000035</td>\n",
              "      <td>0.000017</td>\n",
              "      <td>2.254200e-08</td>\n",
              "      <td>2.054500e-09</td>\n",
              "      <td>0.000014</td>\n",
              "      <td>2.661096</td>\n",
              "      <td>324.191505</td>\n",
              "      <td>3.736782</td>\n",
              "      <td>117</td>\n",
              "      <td>129.101981</td>\n",
              "      <td>17.590</td>\n",
              "      <td>60200</td>\n",
              "      <td>8139.0</td>\n",
              "    </tr>\n",
              "    <tr>\n",
              "      <th>1</th>\n",
              "      <td>2011</td>\n",
              "      <td>10222</td>\n",
              "      <td>3.958900e-06</td>\n",
              "      <td>0.000021</td>\n",
              "      <td>0.000217</td>\n",
              "      <td>0.002209</td>\n",
              "      <td>0.001641</td>\n",
              "      <td>5.622000e-07</td>\n",
              "      <td>9.165300e-08</td>\n",
              "      <td>0.000364</td>\n",
              "      <td>2.204894</td>\n",
              "      <td>356.125107</td>\n",
              "      <td>2.769871</td>\n",
              "      <td>18</td>\n",
              "      <td>255.757258</td>\n",
              "      <td>19.900</td>\n",
              "      <td>60200</td>\n",
              "      <td>3722.0</td>\n",
              "    </tr>\n",
              "    <tr>\n",
              "      <th>2</th>\n",
              "      <td>2016</td>\n",
              "      <td>15475</td>\n",
              "      <td>7.510200e-01</td>\n",
              "      <td>15.770000</td>\n",
              "      <td>4.632200</td>\n",
              "      <td>13.312000</td>\n",
              "      <td>90.643000</td>\n",
              "      <td>1.548700e+00</td>\n",
              "      <td>3.309800e-01</td>\n",
              "      <td>993.850000</td>\n",
              "      <td>2.008509</td>\n",
              "      <td>95.467069</td>\n",
              "      <td>2.430256</td>\n",
              "      <td>6</td>\n",
              "      <td>56.485758</td>\n",
              "      <td>20.288</td>\n",
              "      <td>57391</td>\n",
              "      <td>1.0</td>\n",
              "    </tr>\n",
              "    <tr>\n",
              "      <th>3</th>\n",
              "      <td>2013</td>\n",
              "      <td>11743</td>\n",
              "      <td>1.572900e-07</td>\n",
              "      <td>0.000027</td>\n",
              "      <td>0.000016</td>\n",
              "      <td>0.000186</td>\n",
              "      <td>0.000228</td>\n",
              "      <td>2.654700e-07</td>\n",
              "      <td>2.684700e-08</td>\n",
              "      <td>0.000170</td>\n",
              "      <td>2.573955</td>\n",
              "      <td>158.584789</td>\n",
              "      <td>3.540067</td>\n",
              "      <td>34</td>\n",
              "      <td>109.396437</td>\n",
              "      <td>18.320</td>\n",
              "      <td>60200</td>\n",
              "      <td>3515.0</td>\n",
              "    </tr>\n",
              "    <tr>\n",
              "      <th>4</th>\n",
              "      <td>2002</td>\n",
              "      <td>3226</td>\n",
              "      <td>5.860500e-08</td>\n",
              "      <td>0.000007</td>\n",
              "      <td>0.000063</td>\n",
              "      <td>0.000064</td>\n",
              "      <td>0.000014</td>\n",
              "      <td>2.074800e-08</td>\n",
              "      <td>2.621900e-09</td>\n",
              "      <td>0.000013</td>\n",
              "      <td>2.373425</td>\n",
              "      <td>164.335304</td>\n",
              "      <td>3.199585</td>\n",
              "      <td>227</td>\n",
              "      <td>265.069228</td>\n",
              "      <td>17.920</td>\n",
              "      <td>60200</td>\n",
              "      <td>7507.0</td>\n",
              "    </tr>\n",
              "  </tbody>\n",
              "</table>\n",
              "</div>"
            ],
            "text/plain": [
              "   year_from_full_name     ID       sigma_e    sigma_i  sigma_om    sigma_w  \\\n",
              "0                 2013  11674  5.756300e-08   0.000010  0.000030   0.000035   \n",
              "1                 2011  10222  3.958900e-06   0.000021  0.000217   0.002209   \n",
              "2                 2016  15475  7.510200e-01  15.770000  4.632200  13.312000   \n",
              "3                 2013  11743  1.572900e-07   0.000027  0.000016   0.000186   \n",
              "4                 2002   3226  5.860500e-08   0.000007  0.000063   0.000064   \n",
              "\n",
              "    sigma_ma      sigma_ad       sigma_n   sigma_per         a          om  \\\n",
              "0   0.000017  2.254200e-08  2.054500e-09    0.000014  2.661096  324.191505   \n",
              "1   0.001641  5.622000e-07  9.165300e-08    0.000364  2.204894  356.125107   \n",
              "2  90.643000  1.548700e+00  3.309800e-01  993.850000  2.008509   95.467069   \n",
              "3   0.000228  2.654700e-07  2.684700e-08    0.000170  2.573955  158.584789   \n",
              "4   0.000014  2.074800e-08  2.621900e-09    0.000013  2.373425  164.335304   \n",
              "\n",
              "         ad  n_obs_used          ma       H  epoch_mjd  data_arc  \n",
              "0  3.736782         117  129.101981  17.590      60200    8139.0  \n",
              "1  2.769871          18  255.757258  19.900      60200    3722.0  \n",
              "2  2.430256           6   56.485758  20.288      57391       1.0  \n",
              "3  3.540067          34  109.396437  18.320      60200    3515.0  \n",
              "4  3.199585         227  265.069228  17.920      60200    7507.0  "
            ]
          },
          "execution_count": 15,
          "metadata": {},
          "output_type": "execute_result"
        }
      ],
      "source": [
        "df.head()"
      ]
    },
    {
      "cell_type": "code",
      "execution_count": null,
      "metadata": {
        "colab": {
          "base_uri": "https://localhost:8080/"
        },
        "id": "X5XLlUo5TWSS",
        "outputId": "d56b90dc-4ebd-4e81-b2f3-760380be7c30"
      },
      "outputs": [
        {
          "data": {
            "text/plain": [
              "(18000, 18)"
            ]
          },
          "execution_count": 16,
          "metadata": {},
          "output_type": "execute_result"
        }
      ],
      "source": [
        "df.shape"
      ]
    },
    {
      "cell_type": "code",
      "execution_count": null,
      "metadata": {
        "colab": {
          "base_uri": "https://localhost:8080/"
        },
        "id": "ZOKLIEG3HiyV",
        "outputId": "6ed0ca23-f2b1-4f47-fd35-9fa33d97f8e0"
      },
      "outputs": [
        {
          "name": "stdout",
          "output_type": "stream",
          "text": [
            "(12600, 17)\n",
            "(12600,)\n"
          ]
        }
      ],
      "source": [
        "split_index = int(0.7 * len(df))\n",
        "X = df.iloc[:split_index, :-1].values\n",
        "y = df.iloc[:split_index, -1].values\n",
        "print(X.shape)\n",
        "print(y.shape)"
      ]
    },
    {
      "cell_type": "code",
      "execution_count": null,
      "metadata": {
        "colab": {
          "base_uri": "https://localhost:8080/"
        },
        "id": "UZ5vAq7kHkw8",
        "outputId": "7a3768ed-fb3e-4a42-e958-7b7618fd0813"
      },
      "outputs": [
        {
          "name": "stdout",
          "output_type": "stream",
          "text": [
            "[[2.01300000e+03 1.16740000e+04 5.75630000e-08 ... 1.29101981e+02\n",
            "  1.75900000e+01 6.02000000e+04]\n",
            " [2.01100000e+03 1.02220000e+04 3.95890000e-06 ... 2.55757258e+02\n",
            "  1.99000000e+01 6.02000000e+04]\n",
            " [2.01600000e+03 1.54750000e+04 7.51020000e-01 ... 5.64857576e+01\n",
            "  2.02880000e+01 5.73910000e+04]\n",
            " ...\n",
            " [2.01300000e+03 1.19460000e+04 2.57200000e-05 ... 3.19687613e+01\n",
            "  2.13000000e+01 6.02000000e+04]\n",
            " [2.00900000e+03 4.10700000e+03 9.95540000e-08 ... 1.78033199e+02\n",
            "  1.79500000e+01 6.02000000e+04]\n",
            " [2.01800000e+03 1.85060000e+04 9.65730000e-08 ... 2.97302108e+02\n",
            "  1.83200000e+01 6.02000000e+04]]\n"
          ]
        }
      ],
      "source": [
        "print(X)"
      ]
    },
    {
      "cell_type": "code",
      "execution_count": null,
      "metadata": {
        "colab": {
          "base_uri": "https://localhost:8080/"
        },
        "id": "exUvGCHqHmGs",
        "outputId": "8fd37d36-36c5-4176-fbbe-4de294058332"
      },
      "outputs": [
        {
          "name": "stdout",
          "output_type": "stream",
          "text": [
            "[8.139e+03 3.722e+03 1.000e+00 ... 8.300e+01 4.892e+03 3.659e+03]\n"
          ]
        }
      ],
      "source": [
        "print(y)"
      ]
    },
    {
      "cell_type": "code",
      "execution_count": null,
      "metadata": {
        "id": "eLuCHIbuIi4E"
      },
      "outputs": [],
      "source": [
        "from sklearn.model_selection import train_test_split\n",
        "X_train, X_test, y_train, y_test = train_test_split(X, y , test_size = 0.2, random_state = 0)"
      ]
    },
    {
      "cell_type": "code",
      "execution_count": null,
      "metadata": {
        "colab": {
          "base_uri": "https://localhost:8080/"
        },
        "id": "NvgkiXRQIsv0",
        "outputId": "ea5d5d11-d5a2-4d10-dd9a-d33334ae6bf5"
      },
      "outputs": [
        {
          "name": "stdout",
          "output_type": "stream",
          "text": [
            "(10080, 17)\n",
            "(2520, 17)\n",
            "(10080,)\n",
            "(2520,)\n"
          ]
        }
      ],
      "source": [
        "print(X_train.shape)\n",
        "print(X_test.shape)\n",
        "print(y_train.shape)\n",
        "print(y_test.shape)"
      ]
    },
    {
      "cell_type": "code",
      "execution_count": null,
      "metadata": {
        "colab": {
          "base_uri": "https://localhost:8080/"
        },
        "id": "57Icc5L4Xe7T",
        "outputId": "0c5b2f26-d0cb-4a08-de0b-f205ff18d4c7"
      },
      "outputs": [
        {
          "name": "stdout",
          "output_type": "stream",
          "text": [
            "Requirement already satisfied: catboost in d:\\anaconda\\lib\\site-packages (1.2.1)\n",
            "Requirement already satisfied: graphviz in d:\\anaconda\\lib\\site-packages (from catboost) (0.20.1)\n",
            "Requirement already satisfied: matplotlib in d:\\anaconda\\lib\\site-packages (from catboost) (3.7.1)\n",
            "Requirement already satisfied: numpy>=1.16.0 in d:\\anaconda\\lib\\site-packages (from catboost) (1.24.3)\n",
            "Requirement already satisfied: pandas>=0.24 in d:\\anaconda\\lib\\site-packages (from catboost) (1.5.3)\n",
            "Requirement already satisfied: scipy in d:\\anaconda\\lib\\site-packages (from catboost) (1.10.1)\n",
            "Requirement already satisfied: plotly in d:\\anaconda\\lib\\site-packages (from catboost) (5.9.0)\n",
            "Requirement already satisfied: six in d:\\anaconda\\lib\\site-packages (from catboost) (1.16.0)\n",
            "Requirement already satisfied: python-dateutil>=2.8.1 in d:\\anaconda\\lib\\site-packages (from pandas>=0.24->catboost) (2.8.2)\n",
            "Requirement already satisfied: pytz>=2020.1 in d:\\anaconda\\lib\\site-packages (from pandas>=0.24->catboost) (2022.7)\n",
            "Requirement already satisfied: contourpy>=1.0.1 in d:\\anaconda\\lib\\site-packages (from matplotlib->catboost) (1.0.5)\n",
            "Requirement already satisfied: cycler>=0.10 in d:\\anaconda\\lib\\site-packages (from matplotlib->catboost) (0.11.0)\n",
            "Requirement already satisfied: fonttools>=4.22.0 in d:\\anaconda\\lib\\site-packages (from matplotlib->catboost) (4.25.0)\n",
            "Requirement already satisfied: kiwisolver>=1.0.1 in d:\\anaconda\\lib\\site-packages (from matplotlib->catboost) (1.4.4)\n",
            "Requirement already satisfied: packaging>=20.0 in d:\\anaconda\\lib\\site-packages (from matplotlib->catboost) (23.0)\n",
            "Requirement already satisfied: pillow>=6.2.0 in d:\\anaconda\\lib\\site-packages (from matplotlib->catboost) (9.4.0)\n",
            "Requirement already satisfied: pyparsing>=2.3.1 in d:\\anaconda\\lib\\site-packages (from matplotlib->catboost) (3.0.9)\n",
            "Requirement already satisfied: tenacity>=6.2.0 in d:\\anaconda\\lib\\site-packages (from plotly->catboost) (8.2.2)\n",
            "[11.71966953 14.96529521  4.3889973   3.55506022  3.79777185  2.73239841\n",
            "  6.08294734  8.36022866 17.0553783   8.71051867  2.95088036  2.83977748\n",
            "  2.80126953  2.55691997  3.02765889  4.33938524  0.11584303]\n"
          ]
        }
      ],
      "source": [
        "!pip install catboost\n",
        "from catboost import CatBoostRegressor\n",
        "from sklearn.metrics import mean_absolute_error\n",
        "\n",
        "regressor = CatBoostRegressor(iterations=15000,\n",
        "                              depth=6,\n",
        "                              learning_rate=0.0085,\n",
        "                              loss_function='MAE',\n",
        "                              random_seed=42,\n",
        "\n",
        "                              verbose=False)\n",
        "\n",
        "regressor.fit(X_train, y_train, eval_set=(X_test, y_test))\n",
        "print(regressor.feature_importances_)"
      ]
    },
    {
      "cell_type": "code",
      "execution_count": null,
      "metadata": {
        "id": "yKqO7958JehJ",
        "outputId": "54ab07f4-2799-4f4e-a624-cfe97d13b6d6"
      },
      "outputs": [
        {
          "name": "stdout",
          "output_type": "stream",
          "text": [
            "[[3949. 4347.]\n",
            " [6290. 7676.]\n",
            " [2760. 2789.]\n",
            " ...\n",
            " [6837. 8009.]\n",
            " [2536. 2154.]\n",
            " [4577. 5872.]]\n"
          ]
        }
      ],
      "source": [
        "y_train_pred = np.round(np.abs(regressor.predict(X_train)))\n",
        "np.set_printoptions(precision=2)\n",
        "print(np.concatenate((y_train_pred.reshape(len(y_train_pred),1), y_train.reshape(len(y_train),1)),1))"
      ]
    },
    {
      "cell_type": "code",
      "execution_count": null,
      "metadata": {
        "id": "Z3_c_c2jJhAJ",
        "outputId": "18d7ea27-d6c1-4ba8-d5f7-b63d7d1f1b30"
      },
      "outputs": [
        {
          "name": "stdout",
          "output_type": "stream",
          "text": [
            "[[6.59e+03 8.75e+03]\n",
            " [8.62e+03 8.53e+03]\n",
            " [2.28e+03 3.01e+03]\n",
            " ...\n",
            " [5.91e+03 4.78e+03]\n",
            " [1.23e+04 1.08e+04]\n",
            " [3.50e+01 8.00e+00]]\n"
          ]
        }
      ],
      "source": [
        "y_pred = np.round(np.abs(regressor.predict(X_test)))\n",
        "np.set_printoptions(precision=2)\n",
        "print(np.concatenate((y_pred.reshape(len(y_pred),1), y_test.reshape(len(y_test),1)),1))"
      ]
    },
    {
      "cell_type": "code",
      "execution_count": null,
      "metadata": {
        "id": "_pUdNgmYVGmd",
        "outputId": "ac23a0f6-ad04-4fd5-b270-cd041e98f35c"
      },
      "outputs": [
        {
          "name": "stdout",
          "output_type": "stream",
          "text": [
            "\n",
            "Mean Absolute Error on Test Set: 768.6348820978974\n"
          ]
        }
      ],
      "source": [
        "from sklearn.metrics import mean_absolute_error\n",
        "\n",
        "mae = mean_absolute_error(y_test, y_pred)\n",
        "print(f\"\\nMean Absolute Error on Test Set: {mae}\")"
      ]
    },
    {
      "cell_type": "code",
      "execution_count": null,
      "metadata": {
        "id": "1Bs1x0eZJibB",
        "outputId": "e8c1878d-0c84-40ff-a12d-8ddaccd69370"
      },
      "outputs": [
        {
          "data": {
            "text/plain": [
              "0.8762305401201502"
            ]
          },
          "execution_count": 27,
          "metadata": {},
          "output_type": "execute_result"
        }
      ],
      "source": [
        "from sklearn.metrics import r2_score\n",
        "r2_score(y_train, y_train_pred)"
      ]
    },
    {
      "cell_type": "code",
      "execution_count": null,
      "metadata": {
        "id": "l0gXcwlbJl6h",
        "outputId": "597405e2-805c-4863-d59f-51d0b20a5933"
      },
      "outputs": [
        {
          "data": {
            "text/plain": [
              "0.8093431635401246"
            ]
          },
          "execution_count": 28,
          "metadata": {},
          "output_type": "execute_result"
        }
      ],
      "source": [
        "from sklearn.metrics import r2_score\n",
        "r2_score(y_test, y_pred)"
      ]
    },
    {
      "cell_type": "code",
      "execution_count": null,
      "metadata": {
        "id": "uCcQhVD6JooC",
        "outputId": "5452acac-07af-4926-96fa-90d7ebc6c694"
      },
      "outputs": [
        {
          "data": {
            "image/png": "[encoded data removed]",
            "text/plain": [
              "<Figure size 800x600 with 1 Axes>"
            ]
          },
          "metadata": {},
          "output_type": "display_data"
        }
      ],
      "source": [
        "plt.figure(figsize=(8, 6))\n",
        "plt.scatter(y_train, y_train_pred, alpha=0.5)\n",
        "\n",
        "plt.xlabel(\"Actual Train Values\")\n",
        "plt.ylabel(\"Predicted Values\")\n",
        "plt.title(\"Actual vs. Predicted Values\")\n",
        "\n",
        "plt.plot([min(y_train), max(y_train)], [min(y_train), max(y_train)], linestyle='--', color='red', linewidth=2)\n",
        "\n",
        "plt.show()"
      ]
    },
    {
      "cell_type": "code",
      "execution_count": null,
      "metadata": {
        "id": "8I5TBfDGJuF1",
        "outputId": "a70b526b-6e3f-4ddb-d955-a991d0a978ea"
      },
      "outputs": [
        {
          "data": {
            "image/png": "[encoded data removed]",
            "text/plain": [
              "<Figure size 800x600 with 1 Axes>"
            ]
          },
          "metadata": {},
          "output_type": "display_data"
        }
      ],
      "source": [
        "plt.figure(figsize=(8, 6))\n",
        "plt.scatter(y_test, y_pred, alpha=0.5)\n",
        "\n",
        "plt.xlabel(\"Actual Test Values\")\n",
        "plt.ylabel(\"Predicted Values\")\n",
        "plt.title(\"Actual vs. Predicted Values\")\n",
        "\n",
        "plt.plot([min(y_test), max(y_test)], [min(y_test), max(y_test)], linestyle='--', color='red', linewidth=2)\n",
        "\n",
        "plt.show()"
      ]
    },
    {
      "cell_type": "code",
      "execution_count": null,
      "metadata": {
        "id": "ljG1Seqmd0Ge",
        "outputId": "46648596-d1ba-4205-e03e-32a7d5e7e27b"
      },
      "outputs": [
        {
          "name": "stdout",
          "output_type": "stream",
          "text": [
            "[[2.02e+03 1.97e+04 1.03e-07 ... 1.13e+02 1.86e+01 6.02e+04]\n",
            " [2.00e+03 7.52e+03 6.38e-08 ... 1.63e+02 1.78e+01 6.02e+04]\n",
            " [2.00e+03 4.06e+03 1.08e-07 ... 1.14e+02 1.82e+01 6.02e+04]\n",
            " ...\n",
            " [2.02e+03 1.92e+04 1.99e-05 ... 4.23e+01 2.03e+01 6.02e+04]\n",
            " [2.01e+03 1.11e+04 1.39e-07 ... 7.88e+01 1.97e+01 6.02e+04]\n",
            " [2.00e+03 7.67e+03 1.45e-06 ... 3.78e+01 1.99e+01 6.02e+04]]\n"
          ]
        }
      ],
      "source": [
        "split_index = int(0.7 * len(df))\n",
        "X_final = df.iloc[split_index:, :-1].values\n",
        "print(X_final)"
      ]
    },
    {
      "cell_type": "code",
      "execution_count": null,
      "metadata": {
        "id": "YG9LONJfig2C",
        "outputId": "ed374ba9-57e4-4bb5-9917-3b1e745dbbdb"
      },
      "outputs": [
        {
          "name": "stdout",
          "output_type": "stream",
          "text": [
            "(5400, 17)\n"
          ]
        }
      ],
      "source": [
        "print(X_final.shape)"
      ]
    },
    {
      "cell_type": "code",
      "execution_count": null,
      "metadata": {
        "id": "MC0Q9bJMimwd",
        "outputId": "589f3cb4-9adc-4b3b-b9f2-9b39b7b8a88d"
      },
      "outputs": [
        {
          "name": "stdout",
          "output_type": "stream",
          "text": [
            "[3629 6590 6777 ...   64 4617 4852]\n"
          ]
        }
      ],
      "source": [
        "y_final = np.round(np.abs(regressor.predict(X_final))).astype(int)\n",
        "print(y_final)"
      ]
    },
    {
      "cell_type": "code",
      "execution_count": null,
      "metadata": {
        "id": "qXvliBxHituU",
        "outputId": "e5503359-3aa3-4c78-a0c7-7f0cb1b3b86e"
      },
      "outputs": [
        {
          "name": "stdout",
          "output_type": "stream",
          "text": [
            "[[2.02e+03 1.97e+04 1.03e-07 ... 1.13e+02 1.86e+01 6.02e+04]\n",
            " [2.00e+03 7.52e+03 6.38e-08 ... 1.63e+02 1.78e+01 6.02e+04]\n",
            " [2.00e+03 4.06e+03 1.08e-07 ... 1.14e+02 1.82e+01 6.02e+04]\n",
            " ...\n",
            " [2.02e+03 1.92e+04 1.99e-05 ... 4.23e+01 2.03e+01 6.02e+04]\n",
            " [2.01e+03 1.11e+04 1.39e-07 ... 7.88e+01 1.97e+01 6.02e+04]\n",
            " [2.00e+03 7.67e+03 1.45e-06 ... 3.78e+01 1.99e+01 6.02e+04]]\n"
          ]
        }
      ],
      "source": [
        "print(X_final)"
      ]
    },
    {
      "cell_type": "code",
      "execution_count": null,
      "metadata": {
        "id": "HC7j4P_7mW-D"
      },
      "outputs": [],
      "source": [
        "submission_df = pd.DataFrame({'ID': df_test['ID'], 'data_arc': y_final})\n",
        "submission_df.to_csv('submission.csv', index=False)"
      ]
    }
  ],
  "metadata": {
    "colab": {
      "provenance": []
    },
    "kernelspec": {
      "display_name": "Python 3 (ipykernel)",
      "language": "python",
      "name": "python3"
    },
    "language_info": {
      "codemirror_mode": {
        "name": "ipython",
        "version": 3
      },
      "file_extension": ".py",
      "mimetype": "text/x-python",
      "name": "python",
      "nbconvert_exporter": "python",
      "pygments_lexer": "ipython3",
      "version": "3.11.4"
    }
  },
  "nbformat": 4,
  "nbformat_minor": 0
}